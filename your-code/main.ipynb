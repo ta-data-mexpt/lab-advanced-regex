{
  "metadata": {
    "kernelspec": {
      "name": "python",
      "display_name": "Python (Pyodide)",
      "language": "python"
    },
    "language_info": {
      "codemirror_mode": {
        "name": "python",
        "version": 3
      },
      "file_extension": ".py",
      "mimetype": "text/x-python",
      "name": "python",
      "nbconvert_exporter": "python",
      "pygments_lexer": "ipython3",
      "version": "3.8"
    }
  },
  "nbformat_minor": 4,
  "nbformat": 4,
  "cells": [
    {
      "cell_type": "markdown",
      "source": "# Advanced Regular Expressions Lab\n\nComplete the following set of exercises to solidify your knowledge of regular expressions.",
      "metadata": {}
    },
    {
      "cell_type": "code",
      "source": "import re",
      "metadata": {
        "trusted": true
      },
      "execution_count": 3,
      "outputs": []
    },
    {
      "cell_type": "markdown",
      "source": "### 1. Use a regular expression to find and extract all vowels in the following text.",
      "metadata": {}
    },
    {
      "cell_type": "code",
      "source": "text1 = \"This is going to be a sentence with a good number of vowels in it.\"",
      "metadata": {
        "trusted": true
      },
      "execution_count": 4,
      "outputs": []
    },
    {
      "cell_type": "code",
      "source": "text2 = re.findall(r'[.aeiou]', text1)\ntext1",
      "metadata": {
        "trusted": true
      },
      "execution_count": 5,
      "outputs": [
        {
          "execution_count": 5,
          "output_type": "execute_result",
          "data": {
            "text/plain": "'This is going to be a sentence with a good number of vowels in it.'"
          },
          "metadata": {}
        }
      ]
    },
    {
      "cell_type": "code",
      "source": "text3= re.sub(r'[aeiou]', '', text1)\ntext3",
      "metadata": {
        "trusted": true
      },
      "execution_count": 24,
      "outputs": [
        {
          "execution_count": 24,
          "output_type": "execute_result",
          "data": {
            "text/plain": "'Ths s gng t b  sntnc wth  gd nmbr f vwls n t.'"
          },
          "metadata": {}
        }
      ]
    },
    {
      "cell_type": "markdown",
      "source": "### 2. Use a regular expression to find and extract all occurrences and tenses (singular and plural) of the word \"puppy\" in the text below.",
      "metadata": {}
    },
    {
      "cell_type": "code",
      "source": "text_puppy = \"The puppy saw all the rest of the puppies playing and wanted to join them. I saw this and wanted a puppy of my own!\"",
      "metadata": {
        "trusted": true
      },
      "execution_count": 114,
      "outputs": []
    },
    {
      "cell_type": "code",
      "source": "text_puppy1 = re.findall(r'pupp[yi]', text_puppy)\ntext_puppy1",
      "metadata": {
        "trusted": true
      },
      "execution_count": 80,
      "outputs": [
        {
          "execution_count": 80,
          "output_type": "execute_result",
          "data": {
            "text/plain": "['puppy', 'puppi', 'puppy']"
          },
          "metadata": {}
        }
      ]
    },
    {
      "cell_type": "code",
      "source": "text_puppy2 = re.sub(r'pupp[yi]', '', text_puppy)\ntext_puppy2",
      "metadata": {
        "trusted": true
      },
      "execution_count": 81,
      "outputs": [
        {
          "execution_count": 81,
          "output_type": "execute_result",
          "data": {
            "text/plain": "'The  saw all the rest of the es playing and wanted to join them. I saw this and wanted a  of my own!'"
          },
          "metadata": {}
        }
      ]
    },
    {
      "cell_type": "markdown",
      "source": "### 3. Use a regular expression to find and extract all tenses (present and past) of the word \"run\" in the text below.",
      "metadata": {}
    },
    {
      "cell_type": "code",
      "source": "text_run = \"I ran the relay race the only way I knew how to run it.\"",
      "metadata": {
        "trusted": true
      },
      "execution_count": 89,
      "outputs": []
    },
    {
      "cell_type": "code",
      "source": "text_run1 = re.findall(r'r[au][n]', text_run)\ntext_run1",
      "metadata": {
        "trusted": true
      },
      "execution_count": 101,
      "outputs": [
        {
          "execution_count": 101,
          "output_type": "execute_result",
          "data": {
            "text/plain": "['ran', 'run']"
          },
          "metadata": {}
        }
      ]
    },
    {
      "cell_type": "code",
      "source": "text_run2 = re.sub(r'r[au][n]', '', text_run)\ntext_run2",
      "metadata": {
        "trusted": true
      },
      "execution_count": 102,
      "outputs": [
        {
          "execution_count": 102,
          "output_type": "execute_result",
          "data": {
            "text/plain": "'I  the relay race the only way I knew how to  it.'"
          },
          "metadata": {}
        }
      ]
    },
    {
      "cell_type": "markdown",
      "source": "### 4. Use a regular expression to find and extract all words that begin with the letter \"r\" from the previous text.",
      "metadata": {
        "tags": []
      }
    },
    {
      "cell_type": "code",
      "source": "text_run3 = re.findall(r'r[a-z]+', text_run)\ntext_run3",
      "metadata": {
        "trusted": true
      },
      "execution_count": 111,
      "outputs": [
        {
          "execution_count": 111,
          "output_type": "execute_result",
          "data": {
            "text/plain": "['ran', 'relay', 'race', 'run']"
          },
          "metadata": {}
        }
      ]
    },
    {
      "cell_type": "code",
      "source": "text_run4 = re.sub(r'r[a-z]+', '', text_run)\ntext_run4",
      "metadata": {
        "trusted": true
      },
      "execution_count": 112,
      "outputs": [
        {
          "execution_count": 112,
          "output_type": "execute_result",
          "data": {
            "text/plain": "'I  the   the only way I knew how to  it.'"
          },
          "metadata": {}
        }
      ]
    },
    {
      "cell_type": "markdown",
      "source": "### 5. Use a regular expression to find and substitute the letter \"i\" for the exclamation marks in the text below.",
      "metadata": {}
    },
    {
      "cell_type": "code",
      "source": "text_i = \"Th!s !s a sentence w!th spec!al characters !n !t.\"",
      "metadata": {
        "trusted": true
      },
      "execution_count": 117,
      "outputs": []
    },
    {
      "cell_type": "code",
      "source": "text_i2 = re.sub(r'\\!', 'i', text_i)\ntext_i2",
      "metadata": {
        "trusted": true
      },
      "execution_count": 122,
      "outputs": [
        {
          "execution_count": 122,
          "output_type": "execute_result",
          "data": {
            "text/plain": "'This is a sentence with special characters in it.'"
          },
          "metadata": {}
        }
      ]
    },
    {
      "cell_type": "markdown",
      "source": "### 6. Use a regular expression to find and extract words longer than 4 characters in the text below.",
      "metadata": {}
    },
    {
      "cell_type": "code",
      "source": "text_len = \"This sentence has words of varying lengths.\"",
      "metadata": {
        "trusted": true
      },
      "execution_count": 124,
      "outputs": []
    },
    {
      "cell_type": "code",
      "source": "text_len2 = re.findall(r'\\w{4,}', text_len)\ntext_len2",
      "metadata": {
        "trusted": true
      },
      "execution_count": 127,
      "outputs": [
        {
          "execution_count": 127,
          "output_type": "execute_result",
          "data": {
            "text/plain": "['This', 'sentence', 'words', 'varying', 'lengths']"
          },
          "metadata": {}
        }
      ]
    },
    {
      "cell_type": "markdown",
      "source": "### 7. Use a regular expression to find and extract all occurrences of the letter \"b\", some letter(s), and then the letter \"t\" in the sentence below.",
      "metadata": {}
    },
    {
      "cell_type": "code",
      "source": "text_freq = \"I bet the robot couldn't beat the other bot with a bat, but instead it bit me.\"",
      "metadata": {
        "trusted": true
      },
      "execution_count": 291,
      "outputs": []
    },
    {
      "cell_type": "code",
      "source": "text_freq2 = re.findall(r'(b[a-z]+t)',text_freq)\ntext_freq2",
      "metadata": {
        "trusted": true
      },
      "execution_count": 307,
      "outputs": [
        {
          "execution_count": 307,
          "output_type": "execute_result",
          "data": {
            "text/plain": "['bet', 'bot', 'beat', 'bot', 'bat', 'but', 'bit']"
          },
          "metadata": {}
        }
      ]
    },
    {
      "cell_type": "markdown",
      "source": "### 8. Use a regular expression to find and extract all words that contain either \"ea\" or \"eo\" in them.",
      "metadata": {}
    },
    {
      "cell_type": "code",
      "source": "text_peaks = \"During many of the peaks and troughs of history, the people living it didn't fully realize what was unfolding. But we all know we're navigating breathtaking history: Nearly every day could be — maybe will be — a book.\"\n",
      "metadata": {
        "trusted": true
      },
      "execution_count": 128,
      "outputs": []
    },
    {
      "cell_type": "code",
      "source": "text_peaks2 = re.findall(r'.ea\\w+|.eo\\w+',text_peaks)\ntext_peaks2",
      "metadata": {
        "trusted": true
      },
      "execution_count": 172,
      "outputs": [
        {
          "execution_count": 172,
          "output_type": "execute_result",
          "data": {
            "text/plain": "['peaks', 'people', 'realize', 'reathtaking', 'Nearly']"
          },
          "metadata": {}
        }
      ]
    },
    {
      "cell_type": "markdown",
      "source": "### 9. Use a regular expression to find and extract all the capitalized words in the text below individually.",
      "metadata": {}
    },
    {
      "cell_type": "code",
      "source": "text_cap = \"Teddy Roosevelt and Abraham Lincoln walk into a bar.\"",
      "metadata": {
        "trusted": true
      },
      "execution_count": 173,
      "outputs": []
    },
    {
      "cell_type": "code",
      "source": "text_cap2 = re.findall(r'[A-Z][a-z]+', text_cap)\ntext_cap2",
      "metadata": {
        "trusted": true
      },
      "execution_count": 181,
      "outputs": [
        {
          "execution_count": 181,
          "output_type": "execute_result",
          "data": {
            "text/plain": "['Teddy', 'Roosevelt', 'Abraham', 'Lincoln']"
          },
          "metadata": {}
        }
      ]
    },
    {
      "cell_type": "markdown",
      "source": "### 10. Use a regular expression to find and extract all the sets of consecutive capitalized words in the text above.",
      "metadata": {}
    },
    {
      "cell_type": "code",
      "source": "text_cap3 = re.findall(r'([A-Z][a-z]+)', text_cap)\ntext_cap3",
      "metadata": {
        "trusted": true
      },
      "execution_count": 194,
      "outputs": [
        {
          "execution_count": 194,
          "output_type": "execute_result",
          "data": {
            "text/plain": "['Teddy', 'Roosevelt', 'Abraham', 'Lincoln']"
          },
          "metadata": {}
        }
      ]
    },
    {
      "cell_type": "code",
      "source": "### 11. Use a regular expression to find and extract all the quotes from the text below.\n\n*Hint: This one is a little more complex than the single quote example in the lesson because there are multiple quotes in the text.*",
      "metadata": {},
      "execution_count": null,
      "outputs": []
    },
    {
      "cell_type": "code",
      "source": "text_quote = 'Roosevelt says to Lincoln, \"I will bet you $50 I can get the bartender to give me a free drink.\" Lincoln says, \"I am in!\"'\n",
      "metadata": {
        "trusted": true
      },
      "execution_count": 195,
      "outputs": []
    },
    {
      "cell_type": "code",
      "source": "text_quote2 = re.findall(r'\".*', text_quote)\ntext_quote2",
      "metadata": {
        "trusted": true
      },
      "execution_count": 290,
      "outputs": [
        {
          "execution_count": 290,
          "output_type": "execute_result",
          "data": {
            "text/plain": "['\"I will bet you $50 I can get the bartender to give me a free drink.\" Lincoln says, \"I am in!\"']"
          },
          "metadata": {}
        }
      ]
    },
    {
      "cell_type": "markdown",
      "source": "### 12. Use a regular expression to find and extract all the numbers from the text below.",
      "metadata": {}
    },
    {
      "cell_type": "code",
      "source": "text_numbers = \"There were 30 students in the class. Of the 30 students, 14 were male and 16 were female. Only 10 students got A's on the exam.\"",
      "metadata": {
        "trusted": true
      },
      "execution_count": 237,
      "outputs": []
    },
    {
      "cell_type": "code",
      "source": "text_number2 = re.findall(r'(\\d\\d)', text_numbers)\ntext_number2",
      "metadata": {
        "trusted": true
      },
      "execution_count": 242,
      "outputs": [
        {
          "execution_count": 242,
          "output_type": "execute_result",
          "data": {
            "text/plain": "['30', '30', '14', '16', '10']"
          },
          "metadata": {}
        }
      ]
    },
    {
      "cell_type": "markdown",
      "source": "### 13. Use a regular expression to find and extract all the social security numbers from the text below.",
      "metadata": {}
    },
    {
      "cell_type": "code",
      "source": "text_social = \"\"\"\nHenry's social security number is 876-93-2289 and his phone number is (847)789-0984.\nDarlene's social security number is 098-32-5295 and her phone number is (987)222-0901.\n\"\"\"",
      "metadata": {
        "trusted": true
      },
      "execution_count": 244,
      "outputs": []
    },
    {
      "cell_type": "code",
      "source": "text_social2 = re.findall(r'\\d{3}\\-\\d{2}\\-\\d{4}',text_social)\ntext_social2",
      "metadata": {
        "trusted": true
      },
      "execution_count": 261,
      "outputs": [
        {
          "execution_count": 261,
          "output_type": "execute_result",
          "data": {
            "text/plain": "['876-93-2289', '098-32-5295']"
          },
          "metadata": {}
        }
      ]
    },
    {
      "cell_type": "markdown",
      "source": "### 14. Use a regular expression to find and extract all the phone numbers from the text below.",
      "metadata": {}
    },
    {
      "cell_type": "code",
      "source": "text_social3 = re.findall(r'.\\d{3}.\\d{3}\\-\\d{4}',text_social)\ntext_social3",
      "metadata": {
        "trusted": true
      },
      "execution_count": 265,
      "outputs": [
        {
          "execution_count": 265,
          "output_type": "execute_result",
          "data": {
            "text/plain": "['(847)789-0984', '(987)222-0901']"
          },
          "metadata": {}
        }
      ]
    },
    {
      "cell_type": "markdown",
      "source": "### 15. Use a regular expression to find and extract all the formatted numbers (both social security and phone) from the text below.",
      "metadata": {}
    },
    {
      "cell_type": "code",
      "source": "text_social3 = re.findall(r'\\d{3}\\-\\d{2}\\-\\d{4}|.\\d{3}.\\d{3}\\-\\d{4}',text_social)\ntext_social3",
      "metadata": {
        "trusted": true
      },
      "execution_count": 282,
      "outputs": [
        {
          "execution_count": 282,
          "output_type": "execute_result",
          "data": {
            "text/plain": "['876-93-2289', '(847)789-0984', '098-32-5295', '(987)222-0901']"
          },
          "metadata": {}
        }
      ]
    }
  ]
}